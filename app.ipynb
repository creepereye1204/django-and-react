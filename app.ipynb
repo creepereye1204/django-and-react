{
 "cells": [
  {
   "cell_type": "code",
   "execution_count": 2,
   "metadata": {},
   "outputs": [],
   "source": [
    "class Bible():\n",
    "    def __init__(self,path:str=\"biblebot/\",table:str='blible_counseling'):\n",
    "        import chromadb\n",
    "        import os\n",
    "        from chromadb.db.base import UniqueConstraintError\n",
    "        from chromadb.utils import embedding_functions\n",
    "        \n",
    "        if not os.path.exists(path):\n",
    "            os.makedirs(path, exist_ok=True)\n",
    "            print(f\"Directory '{path}' created successfully.\")\n",
    "\n",
    "         \n",
    "        \n",
    "        client = chromadb.PersistentClient(path=path)\n",
    "        em = embedding_functions.SentenceTransformerEmbeddingFunction(model_name=\"Huffon/sentence-klue-roberta-base\")\n",
    "        try:\n",
    "            self.collection = client.create_collection(name=table, embedding_function=em)\n",
    "        except UniqueConstraintError: \n",
    "            self.collection = client.get_collection(name=table, embedding_function=em)\n",
    "            \n",
    "    def get(self,question:str,k:int)->list[str]:\n",
    "        \n",
    "        results=self.collection.query(query_texts=[question],n_results=k)\n",
    "        return results\n",
    "\n",
    "\n",
    "    def add(self,key:str=None,question:str=None,answer=None):\n",
    "\n",
    "        self.collection.add(\n",
    "        documents=[question],\n",
    "        metadatas=[answer],\n",
    "        ids=[key],\n",
    "        )"
   ]
  },
  {
   "cell_type": "code",
   "execution_count": 4,
   "metadata": {},
   "outputs": [
    {
     "name": "stderr",
     "output_type": "stream",
     "text": [
      "/root/.cache/pypoetry/virtualenvs/my-wiki-n6iennJt-py3.10/lib/python3.10/site-packages/sentence_transformers/cross_encoder/CrossEncoder.py:11: TqdmExperimentalWarning: Using `tqdm.autonotebook.tqdm` in notebook mode. Use `tqdm.tqdm` instead to force console mode (e.g. in jupyter console)\n",
      "  from tqdm.autonotebook import tqdm, trange\n",
      "No sentence-transformers model found with name Huffon/sentence-klue-roberta-base. Creating a new one with mean pooling.\n"
     ]
    },
    {
     "data": {
      "application/vnd.jupyter.widget-view+json": {
       "model_id": "9658e096a13240c0bdd0e58344753da7",
       "version_major": 2,
       "version_minor": 0
      },
      "text/plain": [
       "config.json:   0%|          | 0.00/744 [00:00<?, ?B/s]"
      ]
     },
     "metadata": {},
     "output_type": "display_data"
    },
    {
     "data": {
      "application/vnd.jupyter.widget-view+json": {
       "model_id": "dfbffeb694b3461bb49f49449d8a1c5e",
       "version_major": 2,
       "version_minor": 0
      },
      "text/plain": [
       "pytorch_model.bin:   0%|          | 0.00/443M [00:00<?, ?B/s]"
      ]
     },
     "metadata": {},
     "output_type": "display_data"
    },
    {
     "data": {
      "application/vnd.jupyter.widget-view+json": {
       "model_id": "29fd1b8203804fe3b4c6166984376e50",
       "version_major": 2,
       "version_minor": 0
      },
      "text/plain": [
       "tokenizer_config.json:   0%|          | 0.00/558 [00:00<?, ?B/s]"
      ]
     },
     "metadata": {},
     "output_type": "display_data"
    },
    {
     "data": {
      "application/vnd.jupyter.widget-view+json": {
       "model_id": "6648ded2c942488caf9d5f40d51d6adf",
       "version_major": 2,
       "version_minor": 0
      },
      "text/plain": [
       "vocab.txt:   0%|          | 0.00/248k [00:00<?, ?B/s]"
      ]
     },
     "metadata": {},
     "output_type": "display_data"
    },
    {
     "data": {
      "application/vnd.jupyter.widget-view+json": {
       "model_id": "5d2c7843c20e455e8ebbd3b92a5b98c8",
       "version_major": 2,
       "version_minor": 0
      },
      "text/plain": [
       "tokenizer.json:   0%|          | 0.00/495k [00:00<?, ?B/s]"
      ]
     },
     "metadata": {},
     "output_type": "display_data"
    },
    {
     "data": {
      "application/vnd.jupyter.widget-view+json": {
       "model_id": "e37aef28476d42b1a3437d04ac15704a",
       "version_major": 2,
       "version_minor": 0
      },
      "text/plain": [
       "special_tokens_map.json:   0%|          | 0.00/112 [00:00<?, ?B/s]"
      ]
     },
     "metadata": {},
     "output_type": "display_data"
    },
    {
     "name": "stderr",
     "output_type": "stream",
     "text": [
      "/root/.cache/pypoetry/virtualenvs/my-wiki-n6iennJt-py3.10/lib/python3.10/site-packages/transformers/tokenization_utils_base.py:1601: FutureWarning: `clean_up_tokenization_spaces` was not set. It will be set to `True` by default. This behavior will be depracted in transformers v4.45, and will be then set to `False` by default. For more details check this issue: https://github.com/huggingface/transformers/issues/31884\n",
      "  warnings.warn(\n"
     ]
    }
   ],
   "source": [
    "db=Bible()"
   ]
  },
  {
   "cell_type": "code",
   "execution_count": 7,
   "metadata": {},
   "outputs": [],
   "source": [
    "data={'question':'머리가 아파요.. 병원에서 병명을 모르겠데요..','k':2}"
   ]
  },
  {
   "cell_type": "code",
   "execution_count": 8,
   "metadata": {},
   "outputs": [],
   "source": [
    "격언=db.get(**data)['metadatas'][0][0]['응답']"
   ]
  },
  {
   "cell_type": "code",
   "execution_count": 9,
   "metadata": {},
   "outputs": [],
   "source": [
    "질의=data['question']"
   ]
  },
  {
   "cell_type": "code",
   "execution_count": 11,
   "metadata": {},
   "outputs": [],
   "source": [
    "import ollama"
   ]
  },
  {
   "cell_type": "code",
   "execution_count": 12,
   "metadata": {},
   "outputs": [
    {
     "name": "stdout",
     "output_type": "stream",
     "text": [
      "우리의 아름다운 주님은 우리의 고통을 알고 계시며, 우리를 향한 그의 사랑과 은총이 끝없는 것임을 잊지 말길 바랍니다.\n",
      "\n",
      "베드로가 가로되 \"은과 금은 내게 없거니와 내게 있는 것으로 네게 주노니 곧 나사렛 예수 그리스도의 이름으로 걸으라\" (사도행전 3장 6절). 이것이 우리의 믿음의 기초입니다. 우리가 가진 것만큼 더 많은 것이 주님께 달려 있습니다.\n",
      "\n",
      "믿음의 기도는 병든 자를 구원하리니 주께서 저를 일으키시리라 혹시 죄를 범하였을찌라도 사 하심을 얻으리라 (야고보서 5장 15절). 우리의 아픔은 또한 우리에게 하나님의 사랑과 은총의 기회가 되실 수 있습니다.\n",
      "\n",
      "내 영혼아 여호와를 송축하라 내 속에 있는 것들아 다 그의 거룩한 이름을 송축하라. 주님은 우리 모든 죄악을 사하시며, 우리 모든 병을 고치시며, 우리 생명을 파멸에서 속량하시고 인자와 긍휼로 관을 씌우시며 좋은 것으로 우리 소원을 만족하게 하사 우리 청춘을 독수리 같이 새롭게 하시는도다 (시편 103장1-5절).\n",
      "\n",
      "이 모든 것들이 주님 앞에 서서, 그의 은총과 사랑을 받는 것으로, 건강하고 행복한 삶을 살 수 있도록 도우실 것입니다."
     ]
    }
   ],
   "source": [
    "stream = ollama.chat(model='priest_v2', stream=True,messages=[\n",
    "  {\n",
    "    'role': 'user',\n",
    "    'content': f\"상황:'{질의}',성경구절:'{격언}'\",\n",
    "  },\n",
    "])\n",
    "for chunk in stream:\n",
    "    print(chunk['message']['content'],end='',flush=True)"
   ]
  },
  {
   "cell_type": "code",
   "execution_count": null,
   "metadata": {},
   "outputs": [],
   "source": []
  }
 ],
 "metadata": {
  "kernelspec": {
   "display_name": "my-wiki-n6iennJt-py3.10",
   "language": "python",
   "name": "python3"
  },
  "language_info": {
   "codemirror_mode": {
    "name": "ipython",
    "version": 3
   },
   "file_extension": ".py",
   "mimetype": "text/x-python",
   "name": "python",
   "nbconvert_exporter": "python",
   "pygments_lexer": "ipython3",
   "version": "3.10.13"
  }
 },
 "nbformat": 4,
 "nbformat_minor": 2
}
