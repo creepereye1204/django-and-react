{
 "cells": [
  {
   "cell_type": "code",
   "execution_count": 14,
   "metadata": {},
   "outputs": [
    {
     "name": "stderr",
     "output_type": "stream",
     "text": [
      "--- request header ---\n",
      "GET / HTTP/1.1\n",
      "Upgrade: websocket\n",
      "Host: 127.0.0.1:20004\n",
      "Origin: http://127.0.0.1:20004\n",
      "Sec-WebSocket-Key: 23fDr4k0XtAgoL1DhT0enw==\n",
      "Sec-WebSocket-Version: 13\n",
      "Connection: Upgrade\n",
      "\n",
      "\n",
      "-----------------------\n",
      "--- response header ---\n",
      "Connection to remote host was lost. - goodbye\n"
     ]
    },
    {
     "name": "stdout",
     "output_type": "stream",
     "text": [
      "오류 발생: Connection to remote host was lost.\n",
      "서버와의 연결이 종료되었습니다.\n"
     ]
    }
   ],
   "source": [
    "import websocket\n",
    "import json\n",
    "\n",
    "def on_open(ws):\n",
    "    print(\"서버에 연결되었습니다.\")\n",
    "    message = \"안녕하세요, 서버!\"\n",
    "    ws.send(message)\n",
    "    print(f\"서버에 메시지를 보냈습니다: {message}\")\n",
    "\n",
    "def on_message(ws, message):\n",
    "    print(f\"서버로부터 응답을 받았습니다: {message}\")\n",
    "\n",
    "def on_error(ws, error):\n",
    "    print(f\"오류 발생: {error}\")\n",
    "\n",
    "def on_close(ws, close_status_code, close_msg):\n",
    "    print(\"서버와의 연결이 종료되었습니다.\")\n",
    "\n",
    "def connect_to_server(url='wss://my-wiki.p-e.kr/ws/data/'):\n",
    "    websocket.enableTrace(True)\n",
    "    ws = websocket.WebSocketApp(url,\n",
    "                                on_open=on_open,\n",
    "                                on_message=on_message,\n",
    "                                on_error=on_error,\n",
    "                                on_close=on_close)\n",
    "    ws.run_forever()\n",
    "\n",
    "# 실행\n",
    "connect_to_server()\n"
   ]
  },
  {
   "cell_type": "code",
   "execution_count": 12,
   "metadata": {},
   "outputs": [
    {
     "name": "stdout",
     "output_type": "stream",
     "text": [
      "200\n",
      "(위대한 주의 말씀을 들으시고, 그의 의로운 해를 떠보시며, 그 광선을 받으신다면,) \"너희가 베드로와 나사렛 예수를 따르는 것과 같은 대대로, 여호와께서 너희에게 복음을 전하실 것이다. 믿음의 기도를 드리시면서, 주께서 너희를 일으켜 세우시고, 죄악을 사하시며, 모든 병을 고치실 것이다.\n",
      "\n",
      "주가 애굽 사람들에게 내린 질병들 중 하나도, 그의 계명에 귀를 기울이고 순종하며 의를 행하신다면, 네게 내리지 않을 것이다. 그는 치료하는 여호와이다. 너희 영혼아 여호와를 송축하라! 그 은택을 잊지 말지어다.\n",
      "\n",
      "그의 이름을 경외하시고, 그의 모든 은택을 받으신다면, 좋은 것으로 네 소원을 만족하게 하실 것이다. 네 청춘을 독수리 같이 새롭게 하시며, 인자와 긍휼로 관을 씌우시리라.\n",
      "\n",
      "이러한 말씀은 나에게 주어진 것입니다. (기브니 유스, 레비 9:18)\n"
     ]
    }
   ],
   "source": [
    "import requests\n",
    "\n",
    "# POST 요청을 위한 Request 객체 생성\n",
    "data = {'question': '머리가아퍼요...'}\n",
    "req = requests.Request('POST', 'http://127.0.0.1:5000/chat', json=data)\n",
    "\n",
    "# 요청을 준비합니다.\n",
    "prepared = req.prepare()\n",
    "\n",
    "# 세션을 사용하여 요청 전송\n",
    "with requests.Session() as session:\n",
    "    response = session.send(prepared)\n",
    "    \n",
    "    # 응답 출력\n",
    "    print(response.status_code)  # 상태 코드 출력\n",
    "    print(response.json())  # JSON 응답 내용 출력\n"
   ]
  },
  {
   "cell_type": "code",
   "execution_count": null,
   "metadata": {},
   "outputs": [],
   "source": []
  },
  {
   "cell_type": "code",
   "execution_count": 1,
   "metadata": {},
   "outputs": [
    {
     "name": "stdout",
     "output_type": "stream",
     "text": [
      "/home/apps/my_wiki/tests/output.pdf로 변환되었습니다.\n"
     ]
    }
   ],
   "source": [
    "import pdfkit\n",
    "\n",
    "# Quill.js에서 가져온 HTML 문자열 (예시)\n",
    "quill_html_content = \"\"\"\n",
    "<div>\n",
    "    <h1>성경기반 챗봇</h1>\n",
    "    <p>여기에는 Quill.js로 작성한 내용이 포함됩니다.</p>\n",
    "    <p>한글도 잘 표시됩니다.</p>\n",
    "</div>\n",
    "\"\"\"\n",
    "\n",
    "# HTML 문자열\n",
    "html_string = f\"\"\"\n",
    "<!DOCTYPE html>\n",
    "<html lang=\"ko\">\n",
    "<head>\n",
    "    <meta charset=\"UTF-8\">  <!-- 문자 인코딩 설정 -->\n",
    "    <title>PDF 변환 예제</title>\n",
    "    <style>\n",
    "        body {{\n",
    "            font-family: 'Malgun Gothic', 'Arial', sans-serif;  /* 한글 폰트 설정 */\n",
    "        }}\n",
    "    </style>\n",
    "</head>\n",
    "<body>\n",
    "    <p class=\"ql-align-center\">성경기반 챗봇</p>  <!-- Quill에서 가져온 HTML 내용 삽입 -->\n",
    "</body>\n",
    "</html>\n",
    "\"\"\"\n",
    "\n",
    "pdf_file = '/home/apps/my_wiki/tests/output.pdf'  # 저장할 PDF 파일의 경로\n",
    "\n",
    "# PDF 생성\n",
    "pdfkit.from_string(html_string, pdf_file)\n",
    "\n",
    "print(f\"{pdf_file}로 변환되었습니다.\")\n"
   ]
  },
  {
   "cell_type": "code",
   "execution_count": 1,
   "metadata": {},
   "outputs": [
    {
     "name": "stdout",
     "output_type": "stream",
     "text": [
      "s\n"
     ]
    }
   ],
   "source": [
    "print(\"s\")"
   ]
  },
  {
   "cell_type": "code",
   "execution_count": 19,
   "metadata": {},
   "outputs": [],
   "source": [
    "import unittest\n",
    "\n",
    "class MockThumbnail:\n",
    "    def __init__(self, size, content_type, name):\n",
    "        self.size = size\n",
    "        self.content_type = content_type\n",
    "        self.name = name\n",
    "\n",
    "def get_image_dimensions(thumbnail):\n",
    "    # 이미지 크기를 반환하는 더미 함수\n",
    "    if thumbnail.name.endswith('.jpg'):\n",
    "        return (100, 100)  # 가정된 이미지 크기\n",
    "    return (None, None)\n",
    "\n",
    "class TestIntegrity(unittest.TestCase):\n",
    "\n",
    "    def test_no_file_upload(self):\n",
    "        with self.assertRaises(IntegrityError) as context:\n",
    "            check_integrity([])\n",
    "        self.assertEqual(str(context.exception), \"파일이 없거나 하나의 파일만 선택하세요.\")\n",
    "\n",
    "    def test_single_valid_file(self):\n",
    "        thumbnail = MockThumbnail(size=1024, content_type='image/jpeg', name='image.jpg')\n",
    "        try:\n",
    "            check_integrity([thumbnail])\n",
    "        except IntegrityError:\n",
    "            self.fail(\"check_integrity raised IntegrityError unexpectedly!\")\n",
    "\n",
    "    def test_multiple_file_upload(self):\n",
    "        thumbnails = [\n",
    "            MockThumbnail(size=1024, content_type='image/jpeg', name='image1.jpg'),\n",
    "            MockThumbnail(size=1024, content_type='image/jpeg', name='image2.jpg')\n",
    "        ]\n",
    "        with self.assertRaises(IntegrityError) as context:\n",
    "            check_integrity(thumbnails)\n",
    "        self.assertEqual(str(context.exception), \"파일이 없거나 하나의 파일만 선택하세요.\")\n",
    "\n",
    "    def test_file_too_large(self):\n",
    "        thumbnail = MockThumbnail(size=6 * 1024 * 1024, content_type='image/jpeg', name='image.jpg')\n",
    "        with self.assertRaises(IntegrityError) as context:\n",
    "            check_integrity([thumbnail])\n",
    "        self.assertEqual(str(context.exception), \"파일 크기가 5MB를 초과할 수 없습니다.\")\n",
    "\n",
    "    def test_invalid_mime_type(self):\n",
    "        thumbnail = MockThumbnail(size=1024, content_type='text/plain', name='document.txt')\n",
    "        with self.assertRaises(IntegrityError) as context:\n",
    "            check_integrity([thumbnail])\n",
    "        self.assertEqual(str(context.exception), \"허용되지 않는 이미지 형식입니다.\")\n",
    "\n",
    "    def test_invalid_extension(self):\n",
    "        thumbnail = MockThumbnail(size=1024, content_type='image/jpeg', name='image.bmp')\n",
    "        with self.assertRaises(IntegrityError) as context:\n",
    "            check_integrity([thumbnail])\n",
    "        self.assertEqual(str(context.exception), \"허용되지 않는 파일 확장자입니다.\")\n",
    "\n",
    "    def test_invalid_image_dimensions(self):\n",
    "        thumbnail = MockThumbnail(size=1024, content_type='image/jpeg', name='image.jpg')\n",
    "        global get_image_dimensions\n",
    "        original_get_image_dimensions = get_image_dimensions\n",
    "        get_image_dimensions = lambda thumbnail: (None, None)  # 유효하지 않은 이미지 크기\n",
    "\n",
    "        with self.assertRaises(IntegrityError) as context:\n",
    "            check_integrity([thumbnail])\n",
    "        \n",
    "        get_image_dimensions = original_get_image_dimensions  # 원래 함수 복원\n",
    "\n",
    "        self.assertEqual(str(context.exception), \"유효하지 않은 이미지입니다.\")\n",
    "\n",
    "if __name__ == '__main__':\n",
    "    unittest.main()\n"
   ]
  },
  {
   "cell_type": "code",
   "execution_count": null,
   "metadata": {},
   "outputs": [],
   "source": []
  },
  {
   "cell_type": "code",
   "execution_count": 2,
   "metadata": {},
   "outputs": [
    {
     "ename": "TypeError",
     "evalue": "BaseModel.__init__() takes 1 positional argument but 2 were given",
     "output_type": "error",
     "traceback": [
      "\u001b[0;31m---------------------------------------------------------------------------\u001b[0m",
      "\u001b[0;31mTypeError\u001b[0m                                 Traceback (most recent call last)",
      "Cell \u001b[0;32mIn[2], line 1\u001b[0m\n\u001b[0;32m----> 1\u001b[0m model \u001b[38;5;241m=\u001b[39m \u001b[43mThumbnailModel\u001b[49m\u001b[43m(\u001b[49m\u001b[38;5;124;43m'\u001b[39;49m\u001b[38;5;124;43ms\u001b[39;49m\u001b[38;5;124;43m'\u001b[39;49m\u001b[43m)\u001b[49m\n",
      "\u001b[0;31mTypeError\u001b[0m: BaseModel.__init__() takes 1 positional argument but 2 were given"
     ]
    }
   ],
   "source": [
    "model = ThumbnailModel('s')"
   ]
  },
  {
   "cell_type": "code",
   "execution_count": 1,
   "metadata": {},
   "outputs": [],
   "source": [
    "class Bible():\n",
    "    def __init__(self,path:str=\"biblebot/\",table:str='blible_counseling'):\n",
    "        import chromadb\n",
    "        import os\n",
    "        from chromadb.db.base import UniqueConstraintError\n",
    "        from chromadb.utils import embedding_functions\n",
    "        \n",
    "        if not os.path.exists(path):\n",
    "            os.makedirs(path, exist_ok=True)\n",
    "            print(f\"Directory '{path}' created successfully.\")\n",
    "\n",
    "         \n",
    "        \n",
    "        client = chromadb.PersistentClient(path=path)\n",
    "        em = embedding_functions.SentenceTransformerEmbeddingFunction(model_name=\"Huffon/sentence-klue-roberta-base\")\n",
    "        try:\n",
    "            self.collection = client.create_collection(name=table, embedding_function=em)\n",
    "        except UniqueConstraintError: \n",
    "            self.collection = client.get_collection(name=table, embedding_function=em)\n",
    "            \n",
    "    def get(self,question:str,k:int)->list[str]:\n",
    "        \n",
    "        results=self.collection.query(query_texts=[question],n_results=k)\n",
    "        return results\n",
    "\n",
    "\n",
    "    def add(self,key:str=None,question:str=None,answer=None):\n",
    "\n",
    "        self.collection.add(\n",
    "        documents=[question],\n",
    "        metadatas=[answer],\n",
    "        ids=[key],\n",
    "        )"
   ]
  },
  {
   "cell_type": "code",
   "execution_count": 2,
   "metadata": {},
   "outputs": [
    {
     "name": "stderr",
     "output_type": "stream",
     "text": [
      "/root/.cache/pypoetry/virtualenvs/my-wiki-n6iennJt-py3.10/lib/python3.10/site-packages/sentence_transformers/cross_encoder/CrossEncoder.py:11: TqdmExperimentalWarning: Using `tqdm.autonotebook.tqdm` in notebook mode. Use `tqdm.tqdm` instead to force console mode (e.g. in jupyter console)\n",
      "  from tqdm.autonotebook import tqdm, trange\n",
      "No sentence-transformers model found with name Huffon/sentence-klue-roberta-base. Creating a new one with mean pooling.\n",
      "/root/.cache/pypoetry/virtualenvs/my-wiki-n6iennJt-py3.10/lib/python3.10/site-packages/transformers/tokenization_utils_base.py:1601: FutureWarning: `clean_up_tokenization_spaces` was not set. It will be set to `True` by default. This behavior will be depracted in transformers v4.45, and will be then set to `False` by default. For more details check this issue: https://github.com/huggingface/transformers/issues/31884\n",
      "  warnings.warn(\n"
     ]
    }
   ],
   "source": [
    "db=Bible()"
   ]
  },
  {
   "cell_type": "code",
   "execution_count": 9,
   "metadata": {},
   "outputs": [],
   "source": [
    "db.add(question='��문1', answer={'s':'s'},key='key1'  )"
   ]
  },
  {
   "cell_type": "code",
   "execution_count": 10,
   "metadata": {},
   "outputs": [],
   "source": [
    "db.add(question='��문1', answer={'s':'s'},key='kesy1'  )"
   ]
  },
  {
   "cell_type": "code",
   "execution_count": 4,
   "metadata": {},
   "outputs": [
    {
     "ename": "ValueError",
     "evalue": "Expected metadata to be a dict or None, got str as metadata",
     "output_type": "error",
     "traceback": [
      "\u001b[0;31m---------------------------------------------------------------------------\u001b[0m",
      "\u001b[0;31mValueError\u001b[0m                                Traceback (most recent call last)",
      "Cell \u001b[0;32mIn[4], line 1\u001b[0m\n\u001b[0;32m----> 1\u001b[0m \u001b[43mdb\u001b[49m\u001b[38;5;241;43m.\u001b[39;49m\u001b[43madd\u001b[49m\u001b[43m(\u001b[49m\u001b[43mquestion\u001b[49m\u001b[38;5;241;43m=\u001b[39;49m\u001b[38;5;124;43m'\u001b[39;49m\u001b[38;5;124;43m��문1\u001b[39;49m\u001b[38;5;124;43m'\u001b[39;49m\u001b[43m,\u001b[49m\u001b[43m \u001b[49m\u001b[43manswer\u001b[49m\u001b[38;5;241;43m=\u001b[39;49m\u001b[38;5;124;43m'\u001b[39;49m\u001b[38;5;124;43m��변1\u001b[39;49m\u001b[38;5;124;43m'\u001b[39;49m\u001b[43m,\u001b[49m\u001b[43m \u001b[49m\u001b[43mkey\u001b[49m\u001b[38;5;241;43m=\u001b[39;49m\u001b[38;5;124;43m'\u001b[39;49m\u001b[38;5;124;43mkey1\u001b[39;49m\u001b[38;5;124;43m'\u001b[39;49m\u001b[43m)\u001b[49m\n",
      "Cell \u001b[0;32mIn[1], line 29\u001b[0m, in \u001b[0;36mBible.add\u001b[0;34m(self, key, question, answer)\u001b[0m\n\u001b[1;32m     27\u001b[0m \u001b[38;5;28;01mdef\u001b[39;00m \u001b[38;5;21madd\u001b[39m(\u001b[38;5;28mself\u001b[39m,key:\u001b[38;5;28mstr\u001b[39m\u001b[38;5;241m=\u001b[39m\u001b[38;5;28;01mNone\u001b[39;00m,question:\u001b[38;5;28mstr\u001b[39m\u001b[38;5;241m=\u001b[39m\u001b[38;5;28;01mNone\u001b[39;00m,answer\u001b[38;5;241m=\u001b[39m\u001b[38;5;28;01mNone\u001b[39;00m):\n\u001b[0;32m---> 29\u001b[0m     \u001b[38;5;28;43mself\u001b[39;49m\u001b[38;5;241;43m.\u001b[39;49m\u001b[43mcollection\u001b[49m\u001b[38;5;241;43m.\u001b[39;49m\u001b[43madd\u001b[49m\u001b[43m(\u001b[49m\n\u001b[1;32m     30\u001b[0m \u001b[43m    \u001b[49m\u001b[43mdocuments\u001b[49m\u001b[38;5;241;43m=\u001b[39;49m\u001b[43m[\u001b[49m\u001b[43mquestion\u001b[49m\u001b[43m]\u001b[49m\u001b[43m,\u001b[49m\n\u001b[1;32m     31\u001b[0m \u001b[43m    \u001b[49m\u001b[43mmetadatas\u001b[49m\u001b[38;5;241;43m=\u001b[39;49m\u001b[43m[\u001b[49m\u001b[43manswer\u001b[49m\u001b[43m]\u001b[49m\u001b[43m,\u001b[49m\n\u001b[1;32m     32\u001b[0m \u001b[43m    \u001b[49m\u001b[43mids\u001b[49m\u001b[38;5;241;43m=\u001b[39;49m\u001b[43m[\u001b[49m\u001b[43mkey\u001b[49m\u001b[43m]\u001b[49m\u001b[43m,\u001b[49m\n\u001b[1;32m     33\u001b[0m \u001b[43m    \u001b[49m\u001b[43m)\u001b[49m\n",
      "File \u001b[0;32m~/.cache/pypoetry/virtualenvs/my-wiki-n6iennJt-py3.10/lib/python3.10/site-packages/chromadb/api/models/Collection.py:80\u001b[0m, in \u001b[0;36mCollection.add\u001b[0;34m(self, ids, embeddings, metadatas, documents, images, uris)\u001b[0m\n\u001b[1;32m     40\u001b[0m \u001b[38;5;28;01mdef\u001b[39;00m \u001b[38;5;21madd\u001b[39m(\n\u001b[1;32m     41\u001b[0m     \u001b[38;5;28mself\u001b[39m,\n\u001b[1;32m     42\u001b[0m     ids: OneOrMany[ID],\n\u001b[0;32m   (...)\u001b[0m\n\u001b[1;32m     52\u001b[0m     uris: Optional[OneOrMany[URI]] \u001b[38;5;241m=\u001b[39m \u001b[38;5;28;01mNone\u001b[39;00m,\n\u001b[1;32m     53\u001b[0m ) \u001b[38;5;241m-\u001b[39m\u001b[38;5;241m>\u001b[39m \u001b[38;5;28;01mNone\u001b[39;00m:\n\u001b[1;32m     54\u001b[0m \u001b[38;5;250m    \u001b[39m\u001b[38;5;124;03m\"\"\"Add embeddings to the data store.\u001b[39;00m\n\u001b[1;32m     55\u001b[0m \u001b[38;5;124;03m    Args:\u001b[39;00m\n\u001b[1;32m     56\u001b[0m \u001b[38;5;124;03m        ids: The ids of the embeddings you wish to add\u001b[39;00m\n\u001b[0;32m   (...)\u001b[0m\n\u001b[1;32m     72\u001b[0m \n\u001b[1;32m     73\u001b[0m \u001b[38;5;124;03m    \"\"\"\u001b[39;00m\n\u001b[1;32m     74\u001b[0m     (\n\u001b[1;32m     75\u001b[0m         ids,\n\u001b[1;32m     76\u001b[0m         embeddings,\n\u001b[1;32m     77\u001b[0m         metadatas,\n\u001b[1;32m     78\u001b[0m         documents,\n\u001b[1;32m     79\u001b[0m         uris,\n\u001b[0;32m---> 80\u001b[0m     ) \u001b[38;5;241m=\u001b[39m \u001b[38;5;28;43mself\u001b[39;49m\u001b[38;5;241;43m.\u001b[39;49m\u001b[43m_validate_and_prepare_embedding_set\u001b[49m\u001b[43m(\u001b[49m\n\u001b[1;32m     81\u001b[0m \u001b[43m        \u001b[49m\u001b[43mids\u001b[49m\u001b[43m,\u001b[49m\u001b[43m \u001b[49m\u001b[43membeddings\u001b[49m\u001b[43m,\u001b[49m\u001b[43m \u001b[49m\u001b[43mmetadatas\u001b[49m\u001b[43m,\u001b[49m\u001b[43m \u001b[49m\u001b[43mdocuments\u001b[49m\u001b[43m,\u001b[49m\u001b[43m \u001b[49m\u001b[43mimages\u001b[49m\u001b[43m,\u001b[49m\u001b[43m \u001b[49m\u001b[43muris\u001b[49m\n\u001b[1;32m     82\u001b[0m \u001b[43m    \u001b[49m\u001b[43m)\u001b[49m\n\u001b[1;32m     84\u001b[0m     \u001b[38;5;28mself\u001b[39m\u001b[38;5;241m.\u001b[39m_client\u001b[38;5;241m.\u001b[39m_add(ids, \u001b[38;5;28mself\u001b[39m\u001b[38;5;241m.\u001b[39mid, embeddings, metadatas, documents, uris)\n",
      "File \u001b[0;32m~/.cache/pypoetry/virtualenvs/my-wiki-n6iennJt-py3.10/lib/python3.10/site-packages/chromadb/api/models/CollectionCommon.py:271\u001b[0m, in \u001b[0;36mCollectionCommon._validate_and_prepare_embedding_set\u001b[0;34m(self, ids, embeddings, metadatas, documents, images, uris)\u001b[0m\n\u001b[1;32m    244\u001b[0m \u001b[38;5;28;01mdef\u001b[39;00m \u001b[38;5;21m_validate_and_prepare_embedding_set\u001b[39m(\n\u001b[1;32m    245\u001b[0m     \u001b[38;5;28mself\u001b[39m,\n\u001b[1;32m    246\u001b[0m     ids: OneOrMany[ID],\n\u001b[0;32m   (...)\u001b[0m\n\u001b[1;32m    262\u001b[0m     Optional[URIs],\n\u001b[1;32m    263\u001b[0m ]:\n\u001b[1;32m    264\u001b[0m     (\n\u001b[1;32m    265\u001b[0m         ids,\n\u001b[1;32m    266\u001b[0m         embeddings,\n\u001b[1;32m    267\u001b[0m         metadatas,\n\u001b[1;32m    268\u001b[0m         documents,\n\u001b[1;32m    269\u001b[0m         images,\n\u001b[1;32m    270\u001b[0m         uris,\n\u001b[0;32m--> 271\u001b[0m     ) \u001b[38;5;241m=\u001b[39m \u001b[38;5;28;43mself\u001b[39;49m\u001b[38;5;241;43m.\u001b[39;49m\u001b[43m_validate_embedding_set\u001b[49m\u001b[43m(\u001b[49m\n\u001b[1;32m    272\u001b[0m \u001b[43m        \u001b[49m\u001b[43mids\u001b[49m\u001b[43m,\u001b[49m\u001b[43m \u001b[49m\u001b[43membeddings\u001b[49m\u001b[43m,\u001b[49m\u001b[43m \u001b[49m\u001b[43mmetadatas\u001b[49m\u001b[43m,\u001b[49m\u001b[43m \u001b[49m\u001b[43mdocuments\u001b[49m\u001b[43m,\u001b[49m\u001b[43m \u001b[49m\u001b[43mimages\u001b[49m\u001b[43m,\u001b[49m\u001b[43m \u001b[49m\u001b[43muris\u001b[49m\n\u001b[1;32m    273\u001b[0m \u001b[43m    \u001b[49m\u001b[43m)\u001b[49m\n\u001b[1;32m    275\u001b[0m     \u001b[38;5;66;03m# We need to compute the embeddings if they're not provided\u001b[39;00m\n\u001b[1;32m    276\u001b[0m     \u001b[38;5;28;01mif\u001b[39;00m embeddings \u001b[38;5;129;01mis\u001b[39;00m \u001b[38;5;28;01mNone\u001b[39;00m:\n\u001b[1;32m    277\u001b[0m         \u001b[38;5;66;03m# At this point, we know that one of documents or images are provided from the validation above\u001b[39;00m\n",
      "File \u001b[0;32m~/.cache/pypoetry/virtualenvs/my-wiki-n6iennJt-py3.10/lib/python3.10/site-packages/chromadb/api/models/CollectionCommon.py:182\u001b[0m, in \u001b[0;36mCollectionCommon._validate_embedding_set\u001b[0;34m(self, ids, embeddings, metadatas, documents, images, uris, require_embeddings_or_data)\u001b[0m\n\u001b[1;32m    173\u001b[0m valid_ids \u001b[38;5;241m=\u001b[39m validate_ids(maybe_cast_one_to_many_ids(ids))\n\u001b[1;32m    174\u001b[0m valid_embeddings \u001b[38;5;241m=\u001b[39m (\n\u001b[1;32m    175\u001b[0m     validate_embeddings(\n\u001b[1;32m    176\u001b[0m         \u001b[38;5;28mself\u001b[39m\u001b[38;5;241m.\u001b[39m_normalize_embeddings(maybe_cast_one_to_many_embedding(embeddings))\n\u001b[0;32m   (...)\u001b[0m\n\u001b[1;32m    179\u001b[0m     \u001b[38;5;28;01melse\u001b[39;00m \u001b[38;5;28;01mNone\u001b[39;00m\n\u001b[1;32m    180\u001b[0m )\n\u001b[1;32m    181\u001b[0m valid_metadatas \u001b[38;5;241m=\u001b[39m (\n\u001b[0;32m--> 182\u001b[0m     \u001b[43mvalidate_metadatas\u001b[49m\u001b[43m(\u001b[49m\u001b[43mmaybe_cast_one_to_many_metadata\u001b[49m\u001b[43m(\u001b[49m\u001b[43mmetadatas\u001b[49m\u001b[43m)\u001b[49m\u001b[43m)\u001b[49m\n\u001b[1;32m    183\u001b[0m     \u001b[38;5;28;01mif\u001b[39;00m metadatas \u001b[38;5;129;01mis\u001b[39;00m \u001b[38;5;129;01mnot\u001b[39;00m \u001b[38;5;28;01mNone\u001b[39;00m\n\u001b[1;32m    184\u001b[0m     \u001b[38;5;28;01melse\u001b[39;00m \u001b[38;5;28;01mNone\u001b[39;00m\n\u001b[1;32m    185\u001b[0m )\n\u001b[1;32m    186\u001b[0m valid_documents \u001b[38;5;241m=\u001b[39m (\n\u001b[1;32m    187\u001b[0m     maybe_cast_one_to_many_document(documents)\n\u001b[1;32m    188\u001b[0m     \u001b[38;5;28;01mif\u001b[39;00m documents \u001b[38;5;129;01mis\u001b[39;00m \u001b[38;5;129;01mnot\u001b[39;00m \u001b[38;5;28;01mNone\u001b[39;00m\n\u001b[1;32m    189\u001b[0m     \u001b[38;5;28;01melse\u001b[39;00m \u001b[38;5;28;01mNone\u001b[39;00m\n\u001b[1;32m    190\u001b[0m )\n\u001b[1;32m    191\u001b[0m valid_images \u001b[38;5;241m=\u001b[39m (\n\u001b[1;32m    192\u001b[0m     maybe_cast_one_to_many_image(images) \u001b[38;5;28;01mif\u001b[39;00m images \u001b[38;5;129;01mis\u001b[39;00m \u001b[38;5;129;01mnot\u001b[39;00m \u001b[38;5;28;01mNone\u001b[39;00m \u001b[38;5;28;01melse\u001b[39;00m \u001b[38;5;28;01mNone\u001b[39;00m\n\u001b[1;32m    193\u001b[0m )\n",
      "File \u001b[0;32m~/.cache/pypoetry/virtualenvs/my-wiki-n6iennJt-py3.10/lib/python3.10/site-packages/chromadb/api/types.py:336\u001b[0m, in \u001b[0;36mvalidate_metadatas\u001b[0;34m(metadatas)\u001b[0m\n\u001b[1;32m    334\u001b[0m     \u001b[38;5;28;01mraise\u001b[39;00m \u001b[38;5;167;01mValueError\u001b[39;00m(\u001b[38;5;124mf\u001b[39m\u001b[38;5;124m\"\u001b[39m\u001b[38;5;124mExpected metadatas to be a list, got \u001b[39m\u001b[38;5;132;01m{\u001b[39;00mmetadatas\u001b[38;5;132;01m}\u001b[39;00m\u001b[38;5;124m\"\u001b[39m)\n\u001b[1;32m    335\u001b[0m \u001b[38;5;28;01mfor\u001b[39;00m metadata \u001b[38;5;129;01min\u001b[39;00m metadatas:\n\u001b[0;32m--> 336\u001b[0m     \u001b[43mvalidate_metadata\u001b[49m\u001b[43m(\u001b[49m\u001b[43mmetadata\u001b[49m\u001b[43m)\u001b[49m\n\u001b[1;32m    337\u001b[0m \u001b[38;5;28;01mreturn\u001b[39;00m metadatas\n",
      "File \u001b[0;32m~/.cache/pypoetry/virtualenvs/my-wiki-n6iennJt-py3.10/lib/python3.10/site-packages/chromadb/api/types.py:282\u001b[0m, in \u001b[0;36mvalidate_metadata\u001b[0;34m(metadata)\u001b[0m\n\u001b[1;32m    280\u001b[0m \u001b[38;5;250m\u001b[39m\u001b[38;5;124;03m\"\"\"Validates metadata to ensure it is a dictionary of strings to strings, ints, floats or bools\"\"\"\u001b[39;00m\n\u001b[1;32m    281\u001b[0m \u001b[38;5;28;01mif\u001b[39;00m \u001b[38;5;129;01mnot\u001b[39;00m \u001b[38;5;28misinstance\u001b[39m(metadata, \u001b[38;5;28mdict\u001b[39m) \u001b[38;5;129;01mand\u001b[39;00m metadata \u001b[38;5;129;01mis\u001b[39;00m \u001b[38;5;129;01mnot\u001b[39;00m \u001b[38;5;28;01mNone\u001b[39;00m:\n\u001b[0;32m--> 282\u001b[0m     \u001b[38;5;28;01mraise\u001b[39;00m \u001b[38;5;167;01mValueError\u001b[39;00m(\n\u001b[1;32m    283\u001b[0m         \u001b[38;5;124mf\u001b[39m\u001b[38;5;124m\"\u001b[39m\u001b[38;5;124mExpected metadata to be a dict or None, got \u001b[39m\u001b[38;5;132;01m{\u001b[39;00m\u001b[38;5;28mtype\u001b[39m(metadata)\u001b[38;5;241m.\u001b[39m\u001b[38;5;18m__name__\u001b[39m\u001b[38;5;132;01m}\u001b[39;00m\u001b[38;5;124m as metadata\u001b[39m\u001b[38;5;124m\"\u001b[39m\n\u001b[1;32m    284\u001b[0m     )\n\u001b[1;32m    285\u001b[0m \u001b[38;5;28;01mif\u001b[39;00m metadata \u001b[38;5;129;01mis\u001b[39;00m \u001b[38;5;28;01mNone\u001b[39;00m:\n\u001b[1;32m    286\u001b[0m     \u001b[38;5;28;01mreturn\u001b[39;00m metadata\n",
      "\u001b[0;31mValueError\u001b[0m: Expected metadata to be a dict or None, got str as metadata"
     ]
    }
   ],
   "source": [
    "db.add(question='��문1', answer='��변1', key='key1')"
   ]
  },
  {
   "cell_type": "code",
   "execution_count": 14,
   "metadata": {},
   "outputs": [],
   "source": [
    "data={'question':'머리가 아파요.. 병원에서 병명을 모르겠데요..','k':1}"
   ]
  },
  {
   "cell_type": "code",
   "execution_count": 15,
   "metadata": {},
   "outputs": [],
   "source": [
    "격언=db.get(**data)"
   ]
  },
  {
   "cell_type": "code",
   "execution_count": 25,
   "metadata": {},
   "outputs": [
    {
     "data": {
      "text/plain": [
       "'s'"
      ]
     },
     "execution_count": 25,
     "metadata": {},
     "output_type": "execute_result"
    }
   ],
   "source": [
    "격언['metadatas'][0][0]['s']"
   ]
  },
  {
   "cell_type": "code",
   "execution_count": 9,
   "metadata": {},
   "outputs": [],
   "source": [
    "질의=data['question']"
   ]
  },
  {
   "cell_type": "code",
   "execution_count": 11,
   "metadata": {},
   "outputs": [],
   "source": [
    "import ollama"
   ]
  },
  {
   "cell_type": "code",
   "execution_count": 12,
   "metadata": {},
   "outputs": [
    {
     "name": "stdout",
     "output_type": "stream",
     "text": [
      "우리의 아름다운 주님은 우리의 고통을 알고 계시며, 우리를 향한 그의 사랑과 은총이 끝없는 것임을 잊지 말길 바랍니다.\n",
      "\n",
      "베드로가 가로되 \"은과 금은 내게 없거니와 내게 있는 것으로 네게 주노니 곧 나사렛 예수 그리스도의 이름으로 걸으라\" (사도행전 3장 6절). 이것이 우리의 믿음의 기초입니다. 우리가 가진 것만큼 더 많은 것이 주님께 달려 있습니다.\n",
      "\n",
      "믿음의 기도는 병든 자를 구원하리니 주께서 저를 일으키시리라 혹시 죄를 범하였을찌라도 사 하심을 얻으리라 (야고보서 5장 15절). 우리의 아픔은 또한 우리에게 하나님의 사랑과 은총의 기회가 되실 수 있습니다.\n",
      "\n",
      "내 영혼아 여호와를 송축하라 내 속에 있는 것들아 다 그의 거룩한 이름을 송축하라. 주님은 우리 모든 죄악을 사하시며, 우리 모든 병을 고치시며, 우리 생명을 파멸에서 속량하시고 인자와 긍휼로 관을 씌우시며 좋은 것으로 우리 소원을 만족하게 하사 우리 청춘을 독수리 같이 새롭게 하시는도다 (시편 103장1-5절).\n",
      "\n",
      "이 모든 것들이 주님 앞에 서서, 그의 은총과 사랑을 받는 것으로, 건강하고 행복한 삶을 살 수 있도록 도우실 것입니다."
     ]
    }
   ],
   "source": [
    "stream = ollama.chat(model='priest_v2', stream=True,messages=[\n",
    "  {\n",
    "    'role': 'user',\n",
    "    'content': f\"상황:'{질의}',성경구절:'{격언}'\",\n",
    "  },\n",
    "])\n",
    "for chunk in stream:\n",
    "    print(chunk['message']['content'],end='',flush=True)"
   ]
  },
  {
   "cell_type": "code",
   "execution_count": null,
   "metadata": {},
   "outputs": [],
   "source": []
  }
 ],
 "metadata": {
  "kernelspec": {
   "display_name": "my-wiki-n6iennJt-py3.10",
   "language": "python",
   "name": "python3"
  },
  "language_info": {
   "codemirror_mode": {
    "name": "ipython",
    "version": 3
   },
   "file_extension": ".py",
   "mimetype": "text/x-python",
   "name": "python",
   "nbconvert_exporter": "python",
   "pygments_lexer": "ipython3",
   "version": "3.10.13"
  }
 },
 "nbformat": 4,
 "nbformat_minor": 2
}
